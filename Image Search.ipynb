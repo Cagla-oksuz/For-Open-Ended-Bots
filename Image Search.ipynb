{
 "cells": [
  {
   "cell_type": "code",
   "execution_count": null,
   "metadata": {},
   "outputs": [],
   "source": [
    "''''In order to create a sample model, I selected 5 different classes from the Cifar100 dataset.\n",
    "These classes are clock, keyboard, lamp, telephone, television.\n",
    "Think of these classes as products of the company we serve."
   ]
  },
  {
   "cell_type": "code",
   "execution_count": 2,
   "metadata": {},
   "outputs": [],
   "source": [
    "import tensorflow\n",
    "import tensorflow as tf\n",
    "import keras\n",
    "import os \n",
    "from PIL import Image\n",
    "import matplotlib.pyplot as plt\n",
    "from keras.datasets import cifar100\n",
    "\n",
    "\n",
    "(X_train, y_train),(X_test, y_test)=cifar100.load_data()\n",
    "\n",
    "os.mkdir('/Users/caglaoksuz/Desktop/dataset')\n",
    "os.mkdir('/Users/caglaoksuz/Desktop/dataset/train')\n",
    "os.mkdir('/Users/caglaoksuz/Desktop/dataset/test')\n",
    "\n",
    "###bu for icerisinde cifar100 data seti icerinden istenilen klasorler olusturuluyor\n",
    "for i in range(100):\n",
    "    if(i==22):\n",
    "        path=os.path.join('/Users/caglaoksuz/Desktop/dataset/train', 'clock')\n",
    "        os.mkdir(path)\n",
    "        path=os.path.join('/Users/caglaoksuz/Desktop/dataset/test', 'clock')\n",
    "        os.mkdir(path)\n",
    "    if(i==39):\n",
    "        path=os.path.join('/Users/caglaoksuz/Desktop/dataset/train', 'keyboard')\n",
    "        os.mkdir(path)\n",
    "        path=os.path.join('/Users/caglaoksuz/Desktop/dataset/test', 'keyboard')\n",
    "        os.mkdir(path)\n",
    "    if(i==40):\n",
    "        path=os.path.join('/Users/caglaoksuz/Desktop/dataset/train', 'lamp')\n",
    "        os.mkdir(path)\n",
    "        path=os.path.join('/Users/caglaoksuz/Desktop/dataset/test', 'lamp')\n",
    "        os.mkdir(path)\n",
    "    if(i==86):\n",
    "        path=os.path.join('/Users/caglaoksuz/Desktop/dataset/train', 'telephone')\n",
    "        os.mkdir(path)\n",
    "        path=os.path.join('/Users/caglaoksuz/Desktop/dataset/test', 'telephone')\n",
    "        os.mkdir(path)\n",
    "    if(i==87):\n",
    "        path=os.path.join('/Users/caglaoksuz/Desktop/dataset/train', 'television')\n",
    "        os.mkdir(path)\n",
    "        path=os.path.join('/Users/caglaoksuz/Desktop/dataset/test', 'television')\n",
    "        os.mkdir(path) \n"
   ]
  },
  {
   "cell_type": "code",
   "execution_count": null,
   "metadata": {},
   "outputs": [],
   "source": [
    "'''This function help me to save the train data in files in an organized manner. I recorded both images and tours."
   ]
  },
  {
   "cell_type": "code",
   "execution_count": 3,
   "metadata": {},
   "outputs": [],
   "source": [
    "\n",
    "for i in range(50000):\n",
    "    if(y_train[i]==22):\n",
    "        path='/Users/caglaoksuz/Desktop/dataset/train/clock'+'/'+str(i)+ '.png'\n",
    "        train_data=Image.fromarray(X_train[i])\n",
    "        plt.imsave(path, X_train[i])\n",
    "    if(y_train[i]==39):\n",
    "        path='/Users/caglaoksuz/Desktop/dataset/train/keyboard'+'/'+str(i)+ '.png'\n",
    "        train_data=Image.fromarray(X_train[i])\n",
    "        plt.imsave(path, X_train[i])\n",
    "    if(y_train[i]==40):\n",
    "        path='/Users/caglaoksuz/Desktop/dataset/train/lamp'+'/'+str(i)+ '.png'\n",
    "        train_data=Image.fromarray(X_train[i])\n",
    "        plt.imsave(path, X_train[i])\n",
    "    if(y_train[i]==86):\n",
    "        path='/Users/caglaoksuz/Desktop/dataset/train/telephone'+'/'+str(i)+ '.png'\n",
    "        train_data=Image.fromarray(X_train[i])\n",
    "        plt.imsave(path, X_train[i])\n",
    "    if(y_train[i]==87):\n",
    "        path='/Users/caglaoksuz/Desktop/dataset/train/television'+'/'+str(i)+ '.png'\n",
    "        train_data=Image.fromarray(X_train[i])\n",
    "        plt.imsave(path, X_train[i])    \n",
    "   \n",
    "\n"
   ]
  },
  {
   "cell_type": "code",
   "execution_count": null,
   "metadata": {},
   "outputs": [],
   "source": [
    "'''This function help me to save test data in files in an orderly manner. I have saved both images and tours."
   ]
  },
  {
   "cell_type": "code",
   "execution_count": 4,
   "metadata": {},
   "outputs": [],
   "source": [
    "\n",
    "for i in range(10000):\n",
    "    if(y_test[i]==22):\n",
    "        path='/Users/caglaoksuz/Desktop/dataset/test/clock'+'/'+str(i)+ '.png'\n",
    "        test_data=Image.fromarray(X_test[i])\n",
    "        plt.imsave(path, X_test[i])\n",
    "    if(y_test[i]==39):\n",
    "        path='/Users/caglaoksuz/Desktop/dataset/test/keyboard'+'/'+str(i)+ '.png'\n",
    "        test_data=Image.fromarray(X_test[i])\n",
    "        plt.imsave(path, X_test[i])\n",
    "    if(y_test[i]==40):\n",
    "        path='/Users/caglaoksuz/Desktop/dataset/test/lamp'+'/'+str(i)+ '.png'\n",
    "        test_data=Image.fromarray(X_test[i])\n",
    "        plt.imsave(path, X_test[i])\n",
    "    if(y_test[i]==86):\n",
    "        path='/Users/caglaoksuz/Desktop/dataset/test/telephone'+'/'+str(i)+ '.png'\n",
    "        test_data=Image.fromarray(X_test[i])\n",
    "        plt.imsave(path, X_test[i])\n",
    "    if(y_test[i]==87):\n",
    "        path='/Users/caglaoksuz/Desktop/dataset/test/television'+'/'+str(i)+ '.png'\n",
    "        test_data=Image.fromarray(X_test[i])\n",
    "        plt.imsave(path, X_test[i])    \n",
    "   \n"
   ]
  },
  {
   "cell_type": "code",
   "execution_count": null,
   "metadata": {},
   "outputs": [],
   "source": [
    "''''I edited the names of the images in the file for limitation. For example, I printed 1 in front of each clock image."
   ]
  },
  {
   "cell_type": "code",
   "execution_count": 5,
   "metadata": {},
   "outputs": [],
   "source": [
    "TRAIN_DIR = \"/Users/caglaoksuz/Desktop/dataset/train\"\n",
    "TEST_DIR = \"/Users/caglaoksuz/Desktop/dataset/test\"\n",
    "CATEGORIES = [\"clock\", \"keyboard\", \"lamp\", \"telephone\", \"television\"]\n",
    "CATEGORIES_2 =[\"clock\", \"keyboard\", \"lamp\", \"telephone\", \"television\"]\n",
    "        \n",
    "def label_img(img):\n",
    "    word_label = img.split('.')[-1]\n",
    "    if word_label == '1': return 1\n",
    "    elif word_label == '2': return 2\n",
    "    elif word_label == '3': return 3\n",
    "    elif word_label == '4': return 4\n",
    "    elif word_label == '5': return 5\n",
    "  "
   ]
  },
  {
   "cell_type": "code",
   "execution_count": null,
   "metadata": {},
   "outputs": [],
   "source": [
    "''''In this function, it looks at the first object in the name of the picture sent as a parameter and sees the numbers \n",
    "I added.\n",
    "It performs the necessary return operation, so that I reserve which picture belongs to which class, for train data."
   ]
  },
  {
   "cell_type": "code",
   "execution_count": 6,
   "metadata": {},
   "outputs": [
    {
     "name": "stderr",
     "output_type": "stream",
     "text": [
      "100%|██████████| 500/500 [00:00<00:00, 4703.77it/s]\n",
      "100%|██████████| 500/500 [00:00<00:00, 5135.09it/s]\n",
      "100%|██████████| 500/500 [00:00<00:00, 5408.73it/s]\n",
      "100%|██████████| 500/500 [00:00<00:00, 5640.30it/s]\n",
      "100%|██████████| 500/500 [00:00<00:00, 4246.97it/s]"
     ]
    },
    {
     "name": "stdout",
     "output_type": "stream",
     "text": [
      "2500\n"
     ]
    },
    {
     "name": "stderr",
     "output_type": "stream",
     "text": [
      "\n"
     ]
    }
   ],
   "source": [
    "from tqdm import tqdm\n",
    "import random\n",
    "import numpy as np\n",
    "import os\n",
    "import cv2\n",
    "def create_training_data():\n",
    "    training_data = []\n",
    "    \n",
    "    for category in CATEGORIES:                  #Image dosyalarini cagirmak icin   \n",
    "        path = os.path.join(TRAIN_DIR,category)  # Image dosyalarinin yollarinin yolunu getirir\n",
    "        class_num = CATEGORIES.index(category)  \n",
    "        for img in tqdm(os.listdir(path)):  # goruntuleri sira ile cagiririz\n",
    "            label = label_img(img)          \n",
    "            try:                 \n",
    "                img_array = cv2.imread(os.path.join(path,img))            \n",
    "                training_data.append([np.array(img_array), np.array(class_num)])        \n",
    "            except Exception as e:  \n",
    "                pass\n",
    "    random.shuffle(training_data)              \n",
    "    np.save('train_data.npy', training_data)   \n",
    "    return training_data\n",
    "    \n",
    "train_data=create_training_data()      \n",
    "print(len(train_data))       #toplam train_data sayisini ekrana yazdirdim"
   ]
  },
  {
   "cell_type": "code",
   "execution_count": null,
   "metadata": {},
   "outputs": [],
   "source": [
    "''''In this function, it looks at the first object in the name of the picture sent as a parameter and sees the numbers I added.\n",
    "It performs the necessary return operation, so that I reserve which picture belongs to which class. For test data."
   ]
  },
  {
   "cell_type": "code",
   "execution_count": 7,
   "metadata": {},
   "outputs": [
    {
     "name": "stderr",
     "output_type": "stream",
     "text": [
      "100%|██████████| 100/100 [00:00<00:00, 3280.72it/s]\n",
      "100%|██████████| 100/100 [00:00<00:00, 2424.12it/s]\n",
      "100%|██████████| 100/100 [00:00<00:00, 1354.17it/s]\n",
      "100%|██████████| 100/100 [00:00<00:00, 2778.94it/s]\n",
      "100%|██████████| 100/100 [00:00<00:00, 2543.48it/s]"
     ]
    },
    {
     "name": "stdout",
     "output_type": "stream",
     "text": [
      "500\n"
     ]
    },
    {
     "name": "stderr",
     "output_type": "stream",
     "text": [
      "\n"
     ]
    }
   ],
   "source": [
    "def create_test_data():\n",
    "    testing_data = []\n",
    "    for category_2 in CATEGORIES_2:       \n",
    "        path = os.path.join(TEST_DIR,category_2)\n",
    "        class_num=CATEGORIES_2.index(category_2)        \n",
    "        for img in tqdm(os.listdir(path)):\n",
    "            label = label_img(img)         \n",
    "            try:\n",
    "                img_array = cv2.imread(os.path.join(path,img))\n",
    "                testing_data.append([np.array(img_array), class_num])        \n",
    "            except Exception as e:\n",
    "                pass           \n",
    "    random.shuffle(testing_data) #karistirir\n",
    "    np.save('test_data.npy', testing_data)    \n",
    "    return testing_data    \n",
    "\n",
    "test_data=create_test_data()\n",
    "\n",
    "print(len(test_data))"
   ]
  },
  {
   "cell_type": "code",
   "execution_count": null,
   "metadata": {},
   "outputs": [],
   "source": []
  },
  {
   "cell_type": "code",
   "execution_count": null,
   "metadata": {},
   "outputs": [],
   "source": [
    "'''I created the model using 5 convolutions and 2 dense layers.\n",
    "I added 2 dropout layers to prevent memorization and increase learning.\n",
    "I chose relu as the activation function. \n",
    "Since I have 5 product classes I created a network with 5 output of the last dense layer.\n",
    "softmax was chosen as the activation function of as a last layer.\n",
    "\n"
   ]
  },
  {
   "cell_type": "code",
   "execution_count": 9,
   "metadata": {},
   "outputs": [],
   "source": [
    "import keras\n",
    "from keras.models import Sequential\n",
    "from tensorflow.keras.optimizers import RMSprop\n",
    "from keras.layers import Dense, Dropout, Activation, Flatten\n",
    "from keras.layers import Conv2D, MaxPooling2D\n",
    "\n",
    "model = Sequential()\n",
    "model.add(Conv2D(32, (3, 3), padding='same'))   #convNet 1\n",
    "model.add(Activation('relu'))\n",
    "model.add(Conv2D(64, (3, 3)))                   #covNet  2\n",
    "model.add(Activation('relu'))\n",
    "model.add(Conv2D(64, (3, 3)))                   #covNet  3\n",
    "model.add(Activation('relu'))\n",
    "model.add(MaxPooling2D(pool_size=(2, 2)))       #Maxpool I                  \n",
    "model.add(Dropout(0.25))                        #Dropout 1\n",
    "model.add(Activation('relu'))    \n",
    "model.add(MaxPooling2D(pool_size=(2, 2)))       #Maxpool II\n",
    "model.add(Conv2D(128, (3, 3)))                  #covNet 4\n",
    "model.add(Activation('relu')) \n",
    "model.add(Conv2D(256, (3, 3)))                  #covNet 5\n",
    "model.add(Dropout(0.25))                        #Dropout 2\n",
    "model.add(Activation('relu')) \n",
    "model.add(MaxPooling2D(pool_size=(2, 2)))       #Maxpool  III\n",
    "\n",
    "model.add(Flatten())                            #Flatten#\n",
    "model.add(Dense(256))                           #Dense 1\n",
    "model.add(Activation('relu'))\n",
    "model.add(Dense(512))                           #Dense 2\n",
    "model.add(Activation('relu'))\n",
    "\n",
    "model.add(Dense(5, activation='softmax'))       #Dense 3\n",
    "\n",
    "opt = keras.optimizers.RMSprop(learning_rate=0.0001, decay=1e-6)\n",
    "\n",
    "model.compile(loss='sparse_categorical_crossentropy',\n",
    "              optimizer=opt,\n",
    "              metrics=['acc'])\n"
   ]
  },
  {
   "cell_type": "code",
   "execution_count": null,
   "metadata": {},
   "outputs": [],
   "source": [
    "'''After creating the model, \n",
    "I need to separate the data in the arrays containing my training and test data as images and labels, \n",
    "because the arrays I created from the data set contain the image and the label of that image together in each row. \n",
    "With the help of the numpy library, this function was realized in the code below."
   ]
  },
  {
   "cell_type": "code",
   "execution_count": 10,
   "metadata": {},
   "outputs": [],
   "source": [
    "X = np.array([i[0] for i in train_data]).reshape(-1,32,32,3)\n",
    "Y = [i[1] for i in train_data]\n",
    "Y = np.reshape(Y, (-1, 1))\n",
    "\n",
    "X_test = np.array([i[0] for i in test_data]).reshape(-1,32,32,3)\n",
    "Y_test = [i[1] for i in test_data]\n",
    "Y_test = np.reshape(Y_test, (-1, 1))"
   ]
  },
  {
   "cell_type": "code",
   "execution_count": null,
   "metadata": {},
   "outputs": [],
   "source": [
    "'''Then, to begin the training, \n",
    "First of all \n",
    "I gave the X variable with my training images and the Y string with my training labels to the fit function.\n",
    "Then I gave my test data as validation,\n",
    "and I set the batch_size to 50."
   ]
  },
  {
   "cell_type": "code",
   "execution_count": 11,
   "metadata": {},
   "outputs": [
    {
     "name": "stdout",
     "output_type": "stream",
     "text": [
      "Train on 2500 samples, validate on 500 samples\n",
      "Epoch 1/32\n",
      "2500/2500 [==============================] - 27s 11ms/step - loss: 2.4180 - acc: 0.2604 - val_loss: 1.5175 - val_acc: 0.3540\n",
      "Epoch 2/32\n",
      "2500/2500 [==============================] - 24s 9ms/step - loss: 1.5383 - acc: 0.3552 - val_loss: 1.4112 - val_acc: 0.4420\n",
      "Epoch 3/32\n",
      "2500/2500 [==============================] - 24s 9ms/step - loss: 1.4035 - acc: 0.4128 - val_loss: 1.3650 - val_acc: 0.4680\n",
      "Epoch 4/32\n",
      "2500/2500 [==============================] - 24s 9ms/step - loss: 1.2817 - acc: 0.4896 - val_loss: 1.3959 - val_acc: 0.4500\n",
      "Epoch 5/32\n",
      "2500/2500 [==============================] - 25s 10ms/step - loss: 1.1987 - acc: 0.5288 - val_loss: 1.2420 - val_acc: 0.5260\n",
      "Epoch 6/32\n",
      "2500/2500 [==============================] - 29s 12ms/step - loss: 1.1493 - acc: 0.5636 - val_loss: 1.2245 - val_acc: 0.5420\n",
      "Epoch 7/32\n",
      "2500/2500 [==============================] - 29s 12ms/step - loss: 1.0674 - acc: 0.5836 - val_loss: 1.1417 - val_acc: 0.5860\n",
      "Epoch 8/32\n",
      "2500/2500 [==============================] - 27s 11ms/step - loss: 0.9914 - acc: 0.6260 - val_loss: 1.1053 - val_acc: 0.6060\n",
      "Epoch 9/32\n",
      "2500/2500 [==============================] - 27s 11ms/step - loss: 0.9295 - acc: 0.6464 - val_loss: 1.1087 - val_acc: 0.5880\n",
      "Epoch 10/32\n",
      "2500/2500 [==============================] - 24s 10ms/step - loss: 0.8865 - acc: 0.6652 - val_loss: 1.0266 - val_acc: 0.6280\n",
      "Epoch 11/32\n",
      "2500/2500 [==============================] - 24s 10ms/step - loss: 0.8536 - acc: 0.6912 - val_loss: 1.0795 - val_acc: 0.5980\n",
      "Epoch 12/32\n",
      "2500/2500 [==============================] - 24s 10ms/step - loss: 0.8001 - acc: 0.7028 - val_loss: 1.1095 - val_acc: 0.5840\n",
      "Epoch 13/32\n",
      "2500/2500 [==============================] - 24s 9ms/step - loss: 0.7327 - acc: 0.7312 - val_loss: 0.9807 - val_acc: 0.6360\n",
      "Epoch 14/32\n",
      "2500/2500 [==============================] - 29s 12ms/step - loss: 0.6962 - acc: 0.7504 - val_loss: 0.9902 - val_acc: 0.6440\n",
      "Epoch 15/32\n",
      "2500/2500 [==============================] - 28s 11ms/step - loss: 0.6540 - acc: 0.7576 - val_loss: 0.9659 - val_acc: 0.6380\n",
      "Epoch 16/32\n",
      "2500/2500 [==============================] - 26s 10ms/step - loss: 0.6030 - acc: 0.7820 - val_loss: 0.9850 - val_acc: 0.6380\n",
      "Epoch 17/32\n",
      "2500/2500 [==============================] - 25s 10ms/step - loss: 0.5618 - acc: 0.7936 - val_loss: 1.0013 - val_acc: 0.6280\n",
      "Epoch 18/32\n",
      "2500/2500 [==============================] - 26s 10ms/step - loss: 0.5339 - acc: 0.8028 - val_loss: 0.9500 - val_acc: 0.6500\n",
      "Epoch 19/32\n",
      "2500/2500 [==============================] - 27s 11ms/step - loss: 0.5046 - acc: 0.8180 - val_loss: 0.9288 - val_acc: 0.6580\n",
      "Epoch 20/32\n",
      "2500/2500 [==============================] - 28s 11ms/step - loss: 0.4717 - acc: 0.8348 - val_loss: 0.9464 - val_acc: 0.6640\n",
      "Epoch 21/32\n",
      "2500/2500 [==============================] - 25s 10ms/step - loss: 0.4408 - acc: 0.8504 - val_loss: 1.0035 - val_acc: 0.6480\n",
      "Epoch 22/32\n",
      "2500/2500 [==============================] - 26s 11ms/step - loss: 0.4063 - acc: 0.8564 - val_loss: 0.9974 - val_acc: 0.6340\n",
      "Epoch 23/32\n",
      "2500/2500 [==============================] - 27s 11ms/step - loss: 0.3814 - acc: 0.8712 - val_loss: 0.9758 - val_acc: 0.6480\n",
      "Epoch 24/32\n",
      "2500/2500 [==============================] - 26s 11ms/step - loss: 0.3531 - acc: 0.8832 - val_loss: 0.9648 - val_acc: 0.6460\n",
      "Epoch 25/32\n",
      "2500/2500 [==============================] - 27s 11ms/step - loss: 0.3361 - acc: 0.8752 - val_loss: 0.9500 - val_acc: 0.6640\n",
      "Epoch 26/32\n",
      "2500/2500 [==============================] - 26s 11ms/step - loss: 0.3158 - acc: 0.8788 - val_loss: 0.9446 - val_acc: 0.6600\n",
      "Epoch 27/32\n",
      "2500/2500 [==============================] - 30s 12ms/step - loss: 0.2751 - acc: 0.9072 - val_loss: 0.9442 - val_acc: 0.6920\n",
      "Epoch 28/32\n",
      "2500/2500 [==============================] - 25s 10ms/step - loss: 0.2630 - acc: 0.9096 - val_loss: 0.9524 - val_acc: 0.6900\n",
      "Epoch 29/32\n",
      "2500/2500 [==============================] - 26s 10ms/step - loss: 0.2570 - acc: 0.9100 - val_loss: 1.0544 - val_acc: 0.6780\n",
      "Epoch 30/32\n",
      "2500/2500 [==============================] - 27s 11ms/step - loss: 0.2415 - acc: 0.9184 - val_loss: 0.9918 - val_acc: 0.6960\n",
      "Epoch 31/32\n",
      "2500/2500 [==============================] - 24s 10ms/step - loss: 0.2143 - acc: 0.9268 - val_loss: 1.2350 - val_acc: 0.6060\n",
      "Epoch 32/32\n",
      "2500/2500 [==============================] - 24s 9ms/step - loss: 0.2167 - acc: 0.9248 - val_loss: 0.9719 - val_acc: 0.6680\n"
     ]
    }
   ],
   "source": [
    "history=model.fit(X, Y, epochs=32,\n",
    "          batch_size=50,\n",
    "                  validation_data = (X_test, Y_test), \n",
    "                  shuffle=True)"
   ]
  },
  {
   "cell_type": "code",
   "execution_count": null,
   "metadata": {},
   "outputs": [],
   "source": [
    "'''I saved the model"
   ]
  },
  {
   "cell_type": "code",
   "execution_count": 12,
   "metadata": {},
   "outputs": [],
   "source": [
    "Shopify= 'model'\n",
    "model.save(Shopify)"
   ]
  },
  {
   "cell_type": "code",
   "execution_count": null,
   "metadata": {},
   "outputs": [],
   "source": [
    "''''To be better understood, I made a guess from each class and displayed it."
   ]
  },
  {
   "cell_type": "code",
   "execution_count": 13,
   "metadata": {},
   "outputs": [
    {
     "name": "stderr",
     "output_type": "stream",
     "text": [
      "100%|██████████| 100/100 [00:00<00:00, 1891.72it/s]\n",
      "100%|██████████| 100/100 [00:00<00:00, 920.42it/s]\n",
      "100%|██████████| 100/100 [00:00<00:00, 734.46it/s]\n",
      "100%|██████████| 100/100 [00:00<00:00, 800.35it/s]\n",
      "100%|██████████| 100/100 [00:00<00:00, 857.96it/s]\n"
     ]
    },
    {
     "data": {
      "image/png": "[encoded data removed]",
      "text/plain": [
       "<Figure size 432x288 with 6 Axes>"
      ]
     },
     "metadata": {
      "needs_background": "light"
     },
     "output_type": "display_data"
    }
   ],
   "source": [
    "import matplotlib.pyplot as plt\n",
    "test_data = create_test_data()\n",
    "\n",
    "fig=plt.figure()\n",
    "\n",
    "for num,data in enumerate(test_data[:6]):\n",
    "\n",
    "    img_num = data[1]\n",
    "    img_data = data[0]\n",
    "\n",
    "    \n",
    "    y = fig.add_subplot(3,4,num+1)\n",
    "    orig = img_data\n",
    "    data = img_data.reshape(-1,32,32,3)\n",
    "    model_out = model.predict([data])[0]\n",
    "\n",
    "    if np.argmax(model_out) == 0: str_label='Clock'\n",
    "    elif np.argmax(model_out) == 1:  str_label='Keyboard'\n",
    "    elif np.argmax(model_out) == 2:  str_label='Lamp'\n",
    "    elif np.argmax(model_out) == 3:  str_label='Telephone'\n",
    "    elif np.argmax(model_out) == 4:  str_label='Television'\n",
    "    \n",
    "           \n",
    "    y.imshow(orig,cmap='gray')\n",
    "    plt.title(str_label)\n",
    "    y.axes.get_xaxis().set_visible(False)\n",
    "    y.axes.get_yaxis().set_visible(False)\n",
    "plt.show()"
   ]
  },
  {
   "cell_type": "code",
   "execution_count": null,
   "metadata": {},
   "outputs": [],
   "source": [
    "'''''The First Graphic\n",
    "Training accuracy increased and  validation accuracy decreased in some places,\n",
    "8th is epoch they are closest to each other.\n",
    "Encountered local minimum points however\n",
    "managed to hang\n",
    "\n",
    "\n",
    "The Secound Graphic\n",
    "While the training loss has decreased, \n",
    "the validation loss has decreased by experiencing increases in some places and the gap has widened a little. \n",
    "The closest to the epoch is 5. Epoch."
   ]
  },
  {
   "cell_type": "code",
   "execution_count": 14,
   "metadata": {},
   "outputs": [
    {
     "data": {
      "image/png": "[encoded data removed]",
      "text/plain": [
       "<Figure size 432x288 with 1 Axes>"
      ]
     },
     "metadata": {
      "needs_background": "light"
     },
     "output_type": "display_data"
    },
    {
     "data": {
      "image/png": "[encoded data removed]",
      "text/plain": [
       "<Figure size 432x288 with 1 Axes>"
      ]
     },
     "metadata": {
      "needs_background": "light"
     },
     "output_type": "display_data"
    }
   ],
   "source": [
    "import matplotlib.pyplot as plt\n",
    "acc = history.history['acc']\n",
    "val_acc = history.history['val_acc']\n",
    "loss = history.history['loss']\n",
    "val_loss = history.history['val_loss']\n",
    "epochs = range(1, len(acc) + 1)\n",
    "plt.plot(epochs, acc, 'bo', label='Training acc')\n",
    "plt.plot(epochs, val_acc, 'b', label='Validation acc')\n",
    "plt.title('Training and validation accuracy')\n",
    "plt.ylabel('accuracy')\n",
    "plt.xlabel('epoch')\n",
    "plt.legend()\n",
    "plt.figure()\n",
    "plt.plot(epochs, loss, 'bo', label='Training loss')\n",
    "plt.plot(epochs, val_loss, 'b', label='Validation loss')\n",
    "plt.title('Training and validation loss')\n",
    "plt.ylabel('loss')\n",
    "plt.xlabel('epoch')\n",
    "plt.legend()\n",
    "plt.show()"
   ]
  },
  {
   "cell_type": "code",
   "execution_count": null,
   "metadata": {},
   "outputs": [],
   "source": []
  },
  {
   "cell_type": "code",
   "execution_count": null,
   "metadata": {},
   "outputs": [],
   "source": []
  },
  {
   "cell_type": "code",
   "execution_count": null,
   "metadata": {},
   "outputs": [],
   "source": []
  },
  {
   "cell_type": "code",
   "execution_count": null,
   "metadata": {},
   "outputs": [],
   "source": []
  },
  {
   "cell_type": "code",
   "execution_count": null,
   "metadata": {},
   "outputs": [],
   "source": []
  },
  {
   "cell_type": "code",
   "execution_count": null,
   "metadata": {},
   "outputs": [],
   "source": []
  },
  {
   "cell_type": "code",
   "execution_count": null,
   "metadata": {},
   "outputs": [],
   "source": []
  }
 ],
 "metadata": {
  "kernelspec": {
   "display_name": "Python 3",
   "language": "python",
   "name": "python3"
  },
  "language_info": {
   "codemirror_mode": {
    "name": "ipython",
    "version": 3
   },
   "file_extension": ".py",
   "mimetype": "text/x-python",
   "name": "python",
   "nbconvert_exporter": "python",
   "pygments_lexer": "ipython3",
   "version": "3.7.6"
  }
 },
 "nbformat": 4,
 "nbformat_minor": 4
}
